{
 "cells": [
  {
   "cell_type": "code",
   "execution_count": 29,
   "metadata": {},
   "outputs": [],
   "source": [
    "import torch\n",
    "from transformers import MobileBertTokenizer, MobileBertForMaskedLM, AutoTokenizer, AutoModelForMaskedLM\n",
    "from rich import print"
   ]
  },
  {
   "cell_type": "code",
   "execution_count": 21,
   "metadata": {},
   "outputs": [
    {
     "data": {
      "text/html": [
       "<div>\n",
       "<style scoped>\n",
       "    .dataframe tbody tr th:only-of-type {\n",
       "        vertical-align: middle;\n",
       "    }\n",
       "\n",
       "    .dataframe tbody tr th {\n",
       "        vertical-align: top;\n",
       "    }\n",
       "\n",
       "    .dataframe thead th {\n",
       "        text-align: right;\n",
       "    }\n",
       "</style>\n",
       "<table border=\"1\" class=\"dataframe\">\n",
       "  <thead>\n",
       "    <tr style=\"text-align: right;\">\n",
       "      <th></th>\n",
       "      <th>ID</th>\n",
       "      <th>Content</th>\n",
       "      <th>Summary</th>\n",
       "      <th>Dataset</th>\n",
       "      <th>Summary_Tokens</th>\n",
       "      <th>Content_Tokens</th>\n",
       "    </tr>\n",
       "  </thead>\n",
       "  <tbody>\n",
       "    <tr>\n",
       "      <th>0</th>\n",
       "      <td>f49ee725a0360aa6881ed1f7999cc531885dd06a</td>\n",
       "      <td>New York police are concerned drones could bec...</td>\n",
       "      <td>Police have investigated criminals who have ri...</td>\n",
       "      <td>CNN/Daily Mail</td>\n",
       "      <td>['Police', 'have', 'investigated', 'criminal',...</td>\n",
       "      <td>['New', 'York', 'police', 'are', 'concerned', ...</td>\n",
       "    </tr>\n",
       "    <tr>\n",
       "      <th>1</th>\n",
       "      <td>808fe317a53fbd3130c9b7563341a7eea6d15e94</td>\n",
       "      <td>By . Ryan Lipman . Perhaps Australian porn sta...</td>\n",
       "      <td>Porn star Angela White secretly filmed sex act...</td>\n",
       "      <td>CNN/Daily Mail</td>\n",
       "      <td>['Porn', 'star', 'Angela', 'White', 'secretly'...</td>\n",
       "      <td>['By', '.', 'Ryan', 'Lipman', '.', 'Perhaps', ...</td>\n",
       "    </tr>\n",
       "    <tr>\n",
       "      <th>2</th>\n",
       "      <td>98fd67bd343e58bc4e275bbb5a4ea454ec827c0d</td>\n",
       "      <td>This was, Sergio Garcia conceded, much like be...</td>\n",
       "      <td>American draws inspiration from fellow country...</td>\n",
       "      <td>CNN/Daily Mail</td>\n",
       "      <td>['American', 'draw', 'inspiration', 'from', 'f...</td>\n",
       "      <td>['This', 'was,', 'Sergio', 'Garcia', 'conceded...</td>\n",
       "    </tr>\n",
       "    <tr>\n",
       "      <th>3</th>\n",
       "      <td>e12b5bd7056287049d9ec98e41dbb287bd19a981</td>\n",
       "      <td>An Ebola outbreak that began in Guinea four mo...</td>\n",
       "      <td>World Health Organisation: 635 infections and ...</td>\n",
       "      <td>CNN/Daily Mail</td>\n",
       "      <td>['World', 'Health', 'Organisation:', '635', 'i...</td>\n",
       "      <td>['An', 'Ebola', 'outbreak', 'that', 'began', '...</td>\n",
       "    </tr>\n",
       "    <tr>\n",
       "      <th>4</th>\n",
       "      <td>b83e8bcfcd51419849160e789b6658b21a9aedcd</td>\n",
       "      <td>By . Associated Press and Daily Mail Reporter ...</td>\n",
       "      <td>A sinkhole opened up at 5:15am this morning in...</td>\n",
       "      <td>CNN/Daily Mail</td>\n",
       "      <td>['A', 'sinkhole', 'opened', 'up', 'at', '5:15a...</td>\n",
       "      <td>['By', '.', 'Associated', 'Press', 'and', 'Dai...</td>\n",
       "    </tr>\n",
       "  </tbody>\n",
       "</table>\n",
       "</div>"
      ],
      "text/plain": [
       "                                         ID   \n",
       "0  f49ee725a0360aa6881ed1f7999cc531885dd06a  \\\n",
       "1  808fe317a53fbd3130c9b7563341a7eea6d15e94   \n",
       "2  98fd67bd343e58bc4e275bbb5a4ea454ec827c0d   \n",
       "3  e12b5bd7056287049d9ec98e41dbb287bd19a981   \n",
       "4  b83e8bcfcd51419849160e789b6658b21a9aedcd   \n",
       "\n",
       "                                             Content   \n",
       "0  New York police are concerned drones could bec...  \\\n",
       "1  By . Ryan Lipman . Perhaps Australian porn sta...   \n",
       "2  This was, Sergio Garcia conceded, much like be...   \n",
       "3  An Ebola outbreak that began in Guinea four mo...   \n",
       "4  By . Associated Press and Daily Mail Reporter ...   \n",
       "\n",
       "                                             Summary         Dataset   \n",
       "0  Police have investigated criminals who have ri...  CNN/Daily Mail  \\\n",
       "1  Porn star Angela White secretly filmed sex act...  CNN/Daily Mail   \n",
       "2  American draws inspiration from fellow country...  CNN/Daily Mail   \n",
       "3  World Health Organisation: 635 infections and ...  CNN/Daily Mail   \n",
       "4  A sinkhole opened up at 5:15am this morning in...  CNN/Daily Mail   \n",
       "\n",
       "                                      Summary_Tokens   \n",
       "0  ['Police', 'have', 'investigated', 'criminal',...  \\\n",
       "1  ['Porn', 'star', 'Angela', 'White', 'secretly'...   \n",
       "2  ['American', 'draw', 'inspiration', 'from', 'f...   \n",
       "3  ['World', 'Health', 'Organisation:', '635', 'i...   \n",
       "4  ['A', 'sinkhole', 'opened', 'up', 'at', '5:15a...   \n",
       "\n",
       "                                      Content_Tokens  \n",
       "0  ['New', 'York', 'police', 'are', 'concerned', ...  \n",
       "1  ['By', '.', 'Ryan', 'Lipman', '.', 'Perhaps', ...  \n",
       "2  ['This', 'was,', 'Sergio', 'Garcia', 'conceded...  \n",
       "3  ['An', 'Ebola', 'outbreak', 'that', 'began', '...  \n",
       "4  ['By', '.', 'Associated', 'Press', 'and', 'Dai...  "
      ]
     },
     "execution_count": 21,
     "metadata": {},
     "output_type": "execute_result"
    }
   ],
   "source": [
    "# Open the dataset file\n",
    "import pandas as pd\n",
    "df = pd.read_csv('../data/cleaned.csv')\n",
    "df.head()"
   ]
  },
  {
   "cell_type": "code",
   "execution_count": 13,
   "metadata": {},
   "outputs": [
    {
     "name": "stderr",
     "output_type": "stream",
     "text": [
      "Some weights of the model checkpoint at google/mobilebert-uncased were not used when initializing MobileBertForMaskedLM: ['cls.seq_relationship.bias', 'cls.seq_relationship.weight']\n",
      "- This IS expected if you are initializing MobileBertForMaskedLM from the checkpoint of a model trained on another task or with another architecture (e.g. initializing a BertForSequenceClassification model from a BertForPreTraining model).\n",
      "- This IS NOT expected if you are initializing MobileBertForMaskedLM from the checkpoint of a model that you expect to be exactly identical (initializing a BertForSequenceClassification model from a BertForSequenceClassification model).\n"
     ]
    }
   ],
   "source": [
    "# Load the pre-trained MobileBERT model and tokenizer\n",
    "model = MobileBertForMaskedLM.from_pretrained('google/mobilebert-uncased')\n",
    "tokenizer = MobileBertTokenizer.from_pretrained('google/mobilebert-uncased')"
   ]
  },
  {
   "cell_type": "code",
   "execution_count": 26,
   "metadata": {},
   "outputs": [],
   "source": [
    "def summarize_text(input_file):\n",
    "    # Load the input text\n",
    "    with open(input_file, 'r') as f:\n",
    "        text = f.read()\n",
    "\n",
    "    # Split the input text into chunks of 512 tokens\n",
    "    chunk_size = 512\n",
    "    chunks = [text[i:i+chunk_size] for i in range(0, len(text), chunk_size)]\n",
    "\n",
    "    # Initialize the MobileBERT model and tokenizer\n",
    "    model_name = 'google/mobilebert-uncased'\n",
    "    tokenizer = AutoTokenizer.from_pretrained(model_name)\n",
    "    model = AutoModelForMaskedLM.from_pretrained(model_name)\n",
    "\n",
    "    # Generate the summary for each chunk\n",
    "    summaries = []\n",
    "    for chunk in chunks:\n",
    "        # Tokenize the input text\n",
    "        inputs = tokenizer(chunk, padding='max_length', truncation=True, max_length=512, return_tensors='pt')\n",
    "\n",
    "        # Generate the summary using the MobileBERT model\n",
    "        with torch.no_grad():\n",
    "            output = model(input_ids=inputs.input_ids, attention_mask=inputs.attention_mask)\n",
    "            mask_output = output[0][:, :len(chunk.split()), :]\n",
    "            predicted_tokens = torch.argmax(mask_output, dim=-1)\n",
    "\n",
    "        # Convert the predicted tokens back to text\n",
    "        summary = tokenizer.decode(predicted_tokens[0], skip_special_tokens=True)\n",
    "        summaries.append(summary)\n",
    "\n",
    "    # Concatenate the summaries and return the final summary\n",
    "    final_summary = ' '.join(summaries)\n",
    "    return final_summary\n"
   ]
  },
  {
   "cell_type": "code",
   "execution_count": 30,
   "metadata": {},
   "outputs": [
    {
     "name": "stderr",
     "output_type": "stream",
     "text": [
      "Some weights of the model checkpoint at google/mobilebert-uncased were not used when initializing MobileBertForMaskedLM: ['cls.seq_relationship.bias', 'cls.seq_relationship.weight']\n",
      "- This IS expected if you are initializing MobileBertForMaskedLM from the checkpoint of a model trained on another task or with another architecture (e.g. initializing a BertForSequenceClassification model from a BertForPreTraining model).\n",
      "- This IS NOT expected if you are initializing MobileBertForMaskedLM from the checkpoint of a model that you expect to be exactly identical (initializing a BertForSequenceClassification model from a BertForSequenceClassification model).\n"
     ]
    },
    {
     "data": {
      "text/html": [
       "<pre style=\"white-space:pre;overflow-x:auto;line-height:normal;font-family:Menlo,'DejaVu Sans Mono',consolas,'Courier New',monospace\">. new york police are concerned drones could become tools for terrorists, and are investigating ways to stop \n",
       "potential attacks. until now police haven't acknowledged drones as a potential weapon, but the nypd has now said \n",
       "the technology has advanced enough that someone could use them to carry out an air assault using chemical weapons \n",
       "and firearms. police want to develop technology which will allow them to take control of drones as well as scan the\n",
       "skies for them . aerial explosives are the number one threat as they investigate ways to stop attacks. deputy chief\n",
       "salvatore dipace, however, was concerned about an incident last year where a drone was landed in front of german \n",
       "chancellor angela merkel and'could have taken the chancellor and her people out'a drone which was flown over a \n",
       "packed football stadium in manchester, england, just over a week ago, resulting in the suspected pilot being \n",
       "arrested. they . the bomb squad, emergency services and aviation units are working on a plan to counter weaponized \n",
       "drones. the nypd hasn't received any intelligence indicating there is an imminent threat, but has become \n",
       "increasingly concerned over the last year. deputy chief salvatore dipace told cbs news :<span style=\"color: #008000; text-decoration-color: #008000\">'we'</span>ve looked at some \n",
       "people that have jury - rigged these drones to carry guns, to carry different types of explosives if . we had also \n",
       "seen video showing how accurate an attack from a drone could be :<span style=\"color: #008000; text-decoration-color: #008000\">'we'</span>ve seen some video where the drone was flying \n",
       "at different targets along the route and very accurately hitting the targets with the paintball. the nypd now sees \n",
       "a drone carrying explosives as the number one threat. mr dipace's concerns follow an incident in germany last year \n",
       "where a drone was able to land just in front of german chancellor angela merkel as . as she delivered a speech, \n",
       "germany sparking fears that the device could easily be used to commit a terrorist act. he said :<span style=\"color: #008000; text-decoration-color: #008000\">'if you really </span>\n",
       "<span style=\"color: #008000; text-decoration-color: #008000\">think about what could have happened there, the drone hit its target right on the mark and could have taken the </span>\n",
       "<span style=\"color: #008000; text-decoration-color: #008000\">president and her people out.'</span>there has been a dramatic increase of incidents involving drones in new york city in \n",
       "the last year, with <span style=\"color: #008080; text-decoration-color: #008080; font-weight: bold\">40</span> reported. in some cases unmanned aircraft systems or drones had . one incident this summer, \n",
       "a drone which was almost <span style=\"color: #008080; text-decoration-color: #008080; font-weight: bold\">800</span> feet off the ground, nearly collided with a police helicopter. nypd aviation unit \n",
       "member, sergeant antonio hernandez said :<span style=\"color: #008000; text-decoration-color: #008000\">'we'</span>re flying in the dark ; we have night - vision goggles on, we're \n",
       "trying to get a job\n",
       "</pre>\n"
      ],
      "text/plain": [
       ". new york police are concerned drones could become tools for terrorists, and are investigating ways to stop \n",
       "potential attacks. until now police haven't acknowledged drones as a potential weapon, but the nypd has now said \n",
       "the technology has advanced enough that someone could use them to carry out an air assault using chemical weapons \n",
       "and firearms. police want to develop technology which will allow them to take control of drones as well as scan the\n",
       "skies for them . aerial explosives are the number one threat as they investigate ways to stop attacks. deputy chief\n",
       "salvatore dipace, however, was concerned about an incident last year where a drone was landed in front of german \n",
       "chancellor angela merkel and'could have taken the chancellor and her people out'a drone which was flown over a \n",
       "packed football stadium in manchester, england, just over a week ago, resulting in the suspected pilot being \n",
       "arrested. they . the bomb squad, emergency services and aviation units are working on a plan to counter weaponized \n",
       "drones. the nypd hasn't received any intelligence indicating there is an imminent threat, but has become \n",
       "increasingly concerned over the last year. deputy chief salvatore dipace told cbs news :\u001b[32m'we'\u001b[0mve looked at some \n",
       "people that have jury - rigged these drones to carry guns, to carry different types of explosives if . we had also \n",
       "seen video showing how accurate an attack from a drone could be :\u001b[32m'we'\u001b[0mve seen some video where the drone was flying \n",
       "at different targets along the route and very accurately hitting the targets with the paintball. the nypd now sees \n",
       "a drone carrying explosives as the number one threat. mr dipace's concerns follow an incident in germany last year \n",
       "where a drone was able to land just in front of german chancellor angela merkel as . as she delivered a speech, \n",
       "germany sparking fears that the device could easily be used to commit a terrorist act. he said :\u001b[32m'if you really \u001b[0m\n",
       "\u001b[32mthink about what could have happened there, the drone hit its target right on the mark and could have taken the \u001b[0m\n",
       "\u001b[32mpresident and her people out.'\u001b[0mthere has been a dramatic increase of incidents involving drones in new york city in \n",
       "the last year, with \u001b[1;36m40\u001b[0m reported. in some cases unmanned aircraft systems or drones had . one incident this summer, \n",
       "a drone which was almost \u001b[1;36m800\u001b[0m feet off the ground, nearly collided with a police helicopter. nypd aviation unit \n",
       "member, sergeant antonio hernandez said :\u001b[32m'we'\u001b[0mre flying in the dark ; we have night - vision goggles on, we're \n",
       "trying to get a job\n"
      ]
     },
     "metadata": {},
     "output_type": "display_data"
    }
   ],
   "source": [
    "# Example usage\n",
    "print( summarize_text('input.txt') )"
   ]
  },
  {
   "cell_type": "code",
   "execution_count": 24,
   "metadata": {},
   "outputs": [],
   "source": [
    "# # Save content column from row 1 to a text file\n",
    "# text = df.iloc[0]['Content']\n",
    "# with open('input.txt', 'w', encoding='utf-8') as f:\n",
    "#     f.write(text)"
   ]
  }
 ],
 "metadata": {
  "kernelspec": {
   "display_name": "env",
   "language": "python",
   "name": "python3"
  },
  "language_info": {
   "codemirror_mode": {
    "name": "ipython",
    "version": 3
   },
   "file_extension": ".py",
   "mimetype": "text/x-python",
   "name": "python",
   "nbconvert_exporter": "python",
   "pygments_lexer": "ipython3",
   "version": "3.9.12"
  },
  "orig_nbformat": 4
 },
 "nbformat": 4,
 "nbformat_minor": 2
}
