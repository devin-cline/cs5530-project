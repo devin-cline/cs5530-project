{
 "cells": [
  {
   "attachments": {},
   "cell_type": "markdown",
   "metadata": {},
   "source": [
    "Findings:\n",
    "\n",
    "- About 6.4% of the rows have missing values.\n",
    "    - 814271 / 870521 (93.6%) of the rows have all values.\n",
    "- The missing values are in the `ID` and `Content` columns.\n",
    "- Removing duplicates does nothing."
   ]
  },
  {
   "cell_type": "code",
   "execution_count": 4,
   "metadata": {},
   "outputs": [],
   "source": [
    "import pandas as pd\n",
    "\n",
    "df = pd.read_csv('data/raw.csv')"
   ]
  },
  {
   "cell_type": "code",
   "execution_count": 5,
   "metadata": {},
   "outputs": [
    {
     "name": "stdout",
     "output_type": "stream",
     "text": [
      "870521\n"
     ]
    }
   ],
   "source": [
    "# Check the initial number of rows\n",
    "print(df.shape[0])"
   ]
  },
  {
   "cell_type": "code",
   "execution_count": 6,
   "metadata": {},
   "outputs": [
    {
     "name": "stdout",
     "output_type": "stream",
     "text": [
      "814271\n"
     ]
    }
   ],
   "source": [
    "df2 = df.dropna()\n",
    "\n",
    "# Check the number of rows after dropping NaNs\n",
    "print(df2.shape[0])"
   ]
  },
  {
   "cell_type": "code",
   "execution_count": 7,
   "metadata": {},
   "outputs": [
    {
     "name": "stdout",
     "output_type": "stream",
     "text": [
      "814271\n"
     ]
    },
    {
     "name": "stderr",
     "output_type": "stream",
     "text": [
      "/var/folders/d4/ggny_vpn0nv4f9ys1m85vyv80000gn/T/ipykernel_32575/2295618035.py:1: SettingWithCopyWarning: \n",
      "A value is trying to be set on a copy of a slice from a DataFrame\n",
      "\n",
      "See the caveats in the documentation: https://pandas.pydata.org/pandas-docs/stable/user_guide/indexing.html#returning-a-view-versus-a-copy\n",
      "  df2.drop_duplicates(inplace=True)\n"
     ]
    }
   ],
   "source": [
    "df2.drop_duplicates(inplace=True)\n",
    "\n",
    "# Check the number of rows after dropping duplicates\n",
    "print(df2.shape[0])"
   ]
  },
  {
   "cell_type": "code",
   "execution_count": 8,
   "metadata": {},
   "outputs": [
    {
     "name": "stdout",
     "output_type": "stream",
     "text": [
      "Unnamed: 0    False\n",
      "ID             True\n",
      "Content        True\n",
      "Summary       False\n",
      "Dataset       False\n",
      "dtype: bool\n"
     ]
    }
   ],
   "source": [
    "# Which columns in df have missing values?\n",
    "print(df.isnull().any())"
   ]
  },
  {
   "cell_type": "code",
   "execution_count": 9,
   "metadata": {},
   "outputs": [
    {
     "name": "stdout",
     "output_type": "stream",
     "text": [
      "        Unnamed: 0        ID Content   \n",
      "10839        10839  38684879     NaN  \\\n",
      "14701        14701  35860670     NaN   \n",
      "45600        45600  31549359     NaN   \n",
      "89037        89037  39563665     NaN   \n",
      "99783        99783  37916908     NaN   \n",
      "118847      118847  36369226     NaN   \n",
      "142166      142166  31293566     NaN   \n",
      "158232      158232  34473362     NaN   \n",
      "189368      189368  30684523     NaN   \n",
      "194150      194150  40218922     NaN   \n",
      "267224      267224  32556640     NaN   \n",
      "269158      269158  36609258     NaN   \n",
      "283567      283567  32084847     NaN   \n",
      "285807      285807  38367783     NaN   \n",
      "292472      292472  30190709     NaN   \n",
      "402394      402394  36553655     NaN   \n",
      "475751      475751  39290168     NaN   \n",
      "523196      523196  30280969     NaN   \n",
      "526744      526744  36974487     NaN   \n",
      "528954      528954  38341149     NaN   \n",
      "561821      561821  38483385     NaN   \n",
      "612546      612546  39927976     NaN   \n",
      "629789      629789  38150418     NaN   \n",
      "634630      634630  11138790     NaN   \n",
      "641071      641071  35366703     NaN   \n",
      "652193      652193  32725157     NaN   \n",
      "730928      730928  37570557     NaN   \n",
      "760924      760924  32462382     NaN   \n",
      "763851      763851  40209351     NaN   \n",
      "776073      776073  39857947     NaN   \n",
      "813614      813614  35656563     NaN   \n",
      "840237      840237  40922732     NaN   \n",
      "846300      846300  33754931     NaN   \n",
      "855599      855599  38568738     NaN   \n",
      "\n",
      "                                                  Summary Dataset  \n",
      "10839   Images courtesy of AFP, EPA, Getty Images and ...    XSum  \n",
      "14701   President Barack Obama has arrived in Cuba for...    XSum  \n",
      "45600   Our selection of some of the best news photogr...    XSum  \n",
      "89037   Here is a full list of winners and nominees fo...    XSum  \n",
      "99783                    All photographs are copyrighted.    XSum  \n",
      "118847  Following the news that Birmingham City Counci...    XSum  \n",
      "142166  Our selection of some of the best news photogr...    XSum  \n",
      "158232  A selection of the photos from across Africa t...    XSum  \n",
      "189368  Lebanon has placed new restrictions on Syrians...    XSum  \n",
      "194150              All photographs subject to copyright.    XSum  \n",
      "267224  Nigeria's commercial capital, Lagos, has had a...    XSum  \n",
      "269158  A selection of photos from across the African ...    XSum  \n",
      "283567  Our selection of some of the best news photogr...    XSum  \n",
      "285807                All photographs © Press Association    XSum  \n",
      "292472  Rioting has broken out in the US town of Fergu...    XSum  \n",
      "402394  A selection of photos from across the African ...    XSum  \n",
      "475751  The winners of the 2017 Architectural Review M...    XSum  \n",
      "523196  As part of the latest series of African Dream,...    XSum  \n",
      "526744  Following the stabbing at Russell Square in Lo...    XSum  \n",
      "528954  A selection of the most striking news images f...    XSum  \n",
      "561821  The old year went out with a bang as Edinburgh...    XSum  \n",
      "612546  Party leaders are touring the UK on the last d...    XSum  \n",
      "629789  Harvesting work is nearly done at Glaisters Fa...    XSum  \n",
      "634630  As Israel and the Palestinians prepare for US-...    XSum  \n",
      "641071  Highlights from this year's National Televisio...    XSum  \n",
      "652193  Here are the key dates in the long-running inv...    XSum  \n",
      "730928  It's been a long, unpredictable US election an...    XSum  \n",
      "760924  Gallipoli centenary ceremonies are being held ...    XSum  \n",
      "763851                   All photographs are copyrighted.    XSum  \n",
      "776073  Here is a breakdown, by local authority, of th...    XSum  \n",
      "813614  The winners and the full nominations for this ...    XSum  \n",
      "840237  There have been celebrations and ceremonies in...    XSum  \n",
      "846300  This article, which looked at the human cost o...    XSum  \n",
      "855599      All photographs Â© John Vink / Magnum Photos.    XSum  \n"
     ]
    }
   ],
   "source": [
    "# Display df rows with no Content value\n",
    "print(df[df['Content'].isnull()].head())"
   ]
  }
 ],
 "metadata": {
  "kernelspec": {
   "display_name": "env",
   "language": "python",
   "name": "python3"
  },
  "language_info": {
   "codemirror_mode": {
    "name": "ipython",
    "version": 3
   },
   "file_extension": ".py",
   "mimetype": "text/x-python",
   "name": "python",
   "nbconvert_exporter": "python",
   "pygments_lexer": "ipython3",
   "version": "3.9.12"
  },
  "orig_nbformat": 4
 },
 "nbformat": 4,
 "nbformat_minor": 2
}
